{
 "cells": [
  {
   "cell_type": "code",
   "execution_count": 3,
   "id": "ec4ec99b",
   "metadata": {},
   "outputs": [],
   "source": [
    "import pandas as pd\n",
    "import numpy as np\n",
    "import matplotlib .pyplot as plt\n",
    "import matplotlib.image as mpimg"
   ]
  },
  {
   "cell_type": "code",
   "execution_count": 4,
   "id": "c212b8c3",
   "metadata": {},
   "outputs": [],
   "source": [
    "import cv2 \n",
    "import os \n",
    "import glob \n",
    "img_dir = r\"C:\\Users\\Umar\\image1\" # Enter Directory of all images  \n",
    "data_path = os.path.join(img_dir,'*g') \n",
    "files = glob.glob(data_path) \n",
    "data = [] \n",
    "for f1 in files: \n",
    "    img = cv2.imread(f1) \n",
    "    img.resize((200,200))\n",
    "    data.append(img) "
   ]
  },
  {
   "cell_type": "code",
   "execution_count": 5,
   "id": "cb610318",
   "metadata": {},
   "outputs": [],
   "source": [
    "import cv2 \n",
    "import os \n",
    "import glob \n",
    "img_dirs = r\"C:\\Users\\Umar\\image22\" # Enter Directory of all images  \n",
    "data_paths = os.path.join(img_dirs,'*g') \n",
    "filess = glob.glob(data_paths) \n",
    "data1 = [] \n",
    "for f1 in filess: \n",
    "    imgs = cv2.imread(f1) \n",
    "    imgs.resize((200,200))\n",
    "    data1.append(imgs) "
   ]
  },
  {
   "cell_type": "code",
   "execution_count": 6,
   "id": "ccab0090",
   "metadata": {},
   "outputs": [
    {
     "data": {
      "text/plain": [
       "[array([[ 57,  57,  57, ...,  67,  61,  58],\n",
       "        [ 67,  61,  58, ...,  61,  70,  64],\n",
       "        [ 61,  70,  64, ...,  62,  60,  66],\n",
       "        ...,\n",
       "        [ 68,  77,  71, ...,  76,  74,  80],\n",
       "        [ 76,  75,  79, ..., 168,  67,  98],\n",
       "        [151,  48,  74, ...,  71,  77,  73]], dtype=uint8),\n",
       " array([[  0,   2,  29, ..., 245, 112, 231],\n",
       "        [255,  85, 222, ...,   6,  31,   1],\n",
       "        [  6,  31,   2, ...,   8,   5,  27],\n",
       "        ...,\n",
       "        [ 35,  70,  19, ...,  31,  45,  63],\n",
       "        [ 30,  44,  63, ...,  82,  34,  56],\n",
       "        [ 81,  27,  54, ..., 178, 231, 133]], dtype=uint8),\n",
       " array([[ 12,  45,  30, ..., 114,  72, 104],\n",
       "        [127,  79, 109, ..., 167, 136, 168],\n",
       "        [151, 124, 191, ...,  63, 133, 103],\n",
       "        ...,\n",
       "        [ 18,  16,  35, ..., 235, 238, 253],\n",
       "        [236, 239, 254, ...,  95,  49, 121],\n",
       "        [ 98,  49, 123, ...,  77,  53,  51]], dtype=uint8),\n",
       " array([[253, 253, 253, ...,  38,  40,  34],\n",
       "        [ 35,  22,  16, ...,  44,  65,  98],\n",
       "        [ 83, 104,  99, ..., 248, 251, 255],\n",
       "        ...,\n",
       "        [ 39,  46,  41, ..., 255, 255, 255],\n",
       "        [255, 255, 255, ...,  34,  33,  19],\n",
       "        [ 31,  34,  21, ..., 198, 236, 179]], dtype=uint8),\n",
       " array([[  7,  19,  21, ...,  92,  82,  70],\n",
       "        [ 82,  84,  72, ...,  46,  63,  58],\n",
       "        [ 43,  57,  55, ...,   2,   2,   2],\n",
       "        ...,\n",
       "        [ 67,  88,  67, ...,   0,   0,   0],\n",
       "        [  2,   2,   2, ..., 173, 107, 122],\n",
       "        [191,  91, 111, ...,   4,   9,   2]], dtype=uint8),\n",
       " array([[  0,   1,   2, ...,   2,   1,   0],\n",
       "        [  2,   1,   0, ...,   1,   1,   1],\n",
       "        [  1,   1,   1, ...,   0,   0,   5],\n",
       "        ...,\n",
       "        [ 79, 116,  59, ...,  66,  80,  99],\n",
       "        [ 45,  65,  83, ...,  64,  36,  50],\n",
       "        [ 68,  41,  55, ..., 131, 177, 104]], dtype=uint8),\n",
       " array([[254, 220, 184, ...,  10, 255, 164],\n",
       "        [ 11, 255, 166, ..., 179, 140, 223],\n",
       "        [185, 150, 228, ..., 255, 148,  10],\n",
       "        ...,\n",
       "        [177,  46, 249, ..., 255, 196,  93],\n",
       "        [255, 197,  95, ..., 180, 190, 169],\n",
       "        [138, 220, 176, ..., 255, 248, 253]], dtype=uint8),\n",
       " array([[186, 188, 188, ..., 185, 182, 184],\n",
       "        [184, 180, 182, ..., 172, 173, 166],\n",
       "        [171, 172, 157, ..., 161, 162, 160],\n",
       "        ...,\n",
       "        [169, 167, 165, ..., 139, 167, 232],\n",
       "        [138, 166, 231, ..., 143, 145, 143],\n",
       "        [142, 145, 143, ..., 114, 117,  95]], dtype=uint8),\n",
       " array([[  1,   1,   1, ...,  12,   4,   3],\n",
       "        [ 13,   0,   0, ...,   4,  52,   0],\n",
       "        [  0,  41,   0, ...,   1,   0,   7],\n",
       "        ...,\n",
       "        [197, 227, 166, ...,   1,   1,   1],\n",
       "        [  1,   1,   1, ..., 212, 118, 156],\n",
       "        [210, 115, 155, ..., 205, 236, 174]], dtype=uint8),\n",
       " array([[ 44,  67,  93, ...,  84,  41,  55],\n",
       "        [ 78,  39,  52, ..., 115, 166,  47],\n",
       "        [113, 164,  46, ...,  51, 114, 165],\n",
       "        ...,\n",
       "        [ 85, 118,  38, ...,  73, 102, 133],\n",
       "        [ 64,  89, 115, ..., 157,  51, 105],\n",
       "        [152,  52, 104, ...,  66,  82,  52]], dtype=uint8),\n",
       " array([[ 10,   9,  19, ...,  19,  10,  14],\n",
       "        [ 19,  10,  14, ...,   8,  20,   7],\n",
       "        [  9,  20,   7, ...,  10,   9,  29],\n",
       "        ...,\n",
       "        [ 97,  31, 118, ...,  54,  75,  96],\n",
       "        [ 59,  80, 101, ...,  83,  39,  55],\n",
       "        [ 72,  28,  42, ..., 111,   0, 149]], dtype=uint8),\n",
       " array([[ 69, 119, 191, ..., 163,  74,  86],\n",
       "        [152,  79,  90, ...,  52, 107,  22],\n",
       "        [ 53, 108,  24, ...,  35,  25,  38],\n",
       "        ...,\n",
       "        [ 90, 128,  77, ...,  47,  71, 101],\n",
       "        [ 66, 134, 217, ..., 198,  74, 112],\n",
       "        [200,  77, 113, ...,  38,  95,   9]], dtype=uint8),\n",
       " array([[115, 131, 144, ..., 158, 129, 138],\n",
       "        [158, 129, 138, ...,  43,  60,   6],\n",
       "        [ 36,  53,  13, ..., 118, 134, 147],\n",
       "        ...,\n",
       "        [ 10,  28,   2, ..., 136, 150, 169],\n",
       "        [131, 145, 164, ..., 210, 143, 166],\n",
       "        [211, 144, 168, ...,   0,   7,   0]], dtype=uint8),\n",
       " array([[ 26,  19,  10, ..., 193, 170, 169],\n",
       "        [195, 173, 172, ..., 223, 249, 215],\n",
       "        [230, 255, 203, ..., 184, 209, 241],\n",
       "        ...,\n",
       "        [189, 218, 188, ..., 183, 182, 208],\n",
       "        [187, 187, 211, ..., 227, 193, 213],\n",
       "        [248, 211, 231, ..., 214, 243, 200]], dtype=uint8),\n",
       " array([[137, 137, 137, ..., 127, 126, 126],\n",
       "        [126, 122, 122, ..., 246, 246, 252],\n",
       "        [252, 252, 253, ..., 116, 116, 116],\n",
       "        ...,\n",
       "        [223, 223, 224, ...,  52,  52,  52],\n",
       "        [108, 108, 108, ...,  97, 103, 103],\n",
       "        [103, 103, 103, ...,   0,   0,   0]], dtype=uint8),\n",
       " array([[ 66,  71, 193, ..., 213,  61,  65],\n",
       "        [208,  58,  62, ...,  97, 125, 180],\n",
       "        [ 98, 127, 184, ..., 161, 103,  91],\n",
       "        ...,\n",
       "        [175, 233, 132, ..., 238, 101, 152],\n",
       "        [240,  95, 150, ..., 161, 201, 171],\n",
       "        [154, 193, 164, ..., 191, 124, 236]], dtype=uint8),\n",
       " array([[ 88, 144, 133, ...,  88,  29, 111],\n",
       "        [ 92,  31, 112, ...,  59,  68,  66],\n",
       "        [ 63,  72,  92, ...,  52, 136, 132],\n",
       "        ...,\n",
       "        [190, 252, 165, ..., 101, 181, 188],\n",
       "        [ 98, 178, 185, ..., 141,  90, 123],\n",
       "        [138,  92, 125, ..., 175, 168,  97]], dtype=uint8),\n",
       " array([[103,  33,  74, ..., 117, 110,  32],\n",
       "        [116, 120,  41, ...,  43, 119, 108],\n",
       "        [ 39, 114, 104, ..., 128,  39,  49],\n",
       "        ...,\n",
       "        [156, 203,  96, ..., 144, 174, 233],\n",
       "        [144, 172, 232, ..., 225, 133, 152],\n",
       "        [225, 137, 157, ..., 153, 210, 123]], dtype=uint8),\n",
       " array([[ 13,  12,  14, ..., 100,  61,  64],\n",
       "        [108,  48,  52, ...,   4,   2,   1],\n",
       "        [  4,   2,   1, ..., 127, 113, 125],\n",
       "        ...,\n",
       "        [ 65,  82,  89, ...,   3,   2,   4],\n",
       "        [  3,   2,   4, ..., 213,  86, 118],\n",
       "        [201,  69,  95, ..., 158,  95, 253]], dtype=uint8),\n",
       " array([[ 80,  90, 100, ...,  58,  71,  59],\n",
       "        [ 71,  90,  79, ..., 216, 231, 188],\n",
       "        [223, 233, 180, ..., 250, 255, 254],\n",
       "        ...,\n",
       "        [255, 255, 253, ...,  73,  76,  84],\n",
       "        [ 91,  94, 102, ..., 103,  85,  95],\n",
       "        [102,  83,  93, ..., 110, 110,  92]], dtype=uint8)]"
      ]
     },
     "execution_count": 6,
     "metadata": {},
     "output_type": "execute_result"
    }
   ],
   "source": [
    "data"
   ]
  },
  {
   "cell_type": "code",
   "execution_count": 7,
   "id": "39dc5d5b",
   "metadata": {},
   "outputs": [
    {
     "data": {
      "text/plain": [
       "[array([[110,  70, 206, ..., 117, 154,  87],\n",
       "        [ 90, 133,  68, ..., 121, 166,  99],\n",
       "        [111, 153,  76, ..., 108,  78, 231],\n",
       "        ...,\n",
       "        [ 76, 237, 121, ...,   8,  15,  42],\n",
       "        [ 95, 105, 145, ...,  86,  99,  77],\n",
       "        [105, 114,  92, ...,  69, 231, 113]], dtype=uint8),\n",
       " array([[255, 246, 242, ..., 230, 250, 246],\n",
       "        [228, 244, 244, ..., 179, 166, 165],\n",
       "        [172, 159, 173, ..., 212, 212, 206],\n",
       "        ...,\n",
       "        [141, 140, 153, ..., 118, 149, 182],\n",
       "        [150, 182, 218, ..., 201,  95, 190],\n",
       "        [205,  95, 189, ...,  90,  99,  30]], dtype=uint8),\n",
       " array([[172, 218, 235, ..., 231, 159, 216],\n",
       "        [231, 157, 216, ..., 203, 205, 199],\n",
       "        [198, 200, 201, ..., 213, 112,   4],\n",
       "        ...,\n",
       "        [232, 236, 229, ..., 252, 205, 183],\n",
       "        [252, 205, 178, ..., 203,  18, 118],\n",
       "        [182,  30, 123, ...,  55,  79, 106]], dtype=uint8),\n",
       " array([[172, 218, 235, ..., 231, 159, 216],\n",
       "        [231, 157, 216, ..., 203, 205, 199],\n",
       "        [198, 200, 201, ..., 213, 112,   4],\n",
       "        ...,\n",
       "        [232, 236, 229, ..., 252, 205, 183],\n",
       "        [252, 205, 178, ..., 203,  18, 118],\n",
       "        [182,  30, 123, ...,  55,  79, 106]], dtype=uint8),\n",
       " array([[ 56,  63,  88, ...,  63,  49,  53],\n",
       "        [ 64,  49,  53, ..., 146, 127, 158],\n",
       "        [150, 127, 154, ...,  66,  65, 115],\n",
       "        ...,\n",
       "        [ 53,  70,  49, ...,  53,  53,  59],\n",
       "        [ 42,  45,  50, ...,  33,  38,  40],\n",
       "        [ 40,  35,  37, ..., 121, 150,  69]], dtype=uint8)]"
      ]
     },
     "execution_count": 7,
     "metadata": {},
     "output_type": "execute_result"
    }
   ],
   "source": [
    "data1"
   ]
  },
  {
   "cell_type": "code",
   "execution_count": 8,
   "id": "a0dca1b4",
   "metadata": {},
   "outputs": [],
   "source": [
    "x=data+data1"
   ]
  },
  {
   "cell_type": "code",
   "execution_count": 9,
   "id": "a3985fe8",
   "metadata": {
    "scrolled": true
   },
   "outputs": [
    {
     "data": {
      "text/plain": [
       "array([[[ 57,  57,  57, ...,  67,  61,  58],\n",
       "        [ 67,  61,  58, ...,  61,  70,  64],\n",
       "        [ 61,  70,  64, ...,  62,  60,  66],\n",
       "        ...,\n",
       "        [ 68,  77,  71, ...,  76,  74,  80],\n",
       "        [ 76,  75,  79, ..., 168,  67,  98],\n",
       "        [151,  48,  74, ...,  71,  77,  73]],\n",
       "\n",
       "       [[  0,   2,  29, ..., 245, 112, 231],\n",
       "        [255,  85, 222, ...,   6,  31,   1],\n",
       "        [  6,  31,   2, ...,   8,   5,  27],\n",
       "        ...,\n",
       "        [ 35,  70,  19, ...,  31,  45,  63],\n",
       "        [ 30,  44,  63, ...,  82,  34,  56],\n",
       "        [ 81,  27,  54, ..., 178, 231, 133]],\n",
       "\n",
       "       [[ 12,  45,  30, ..., 114,  72, 104],\n",
       "        [127,  79, 109, ..., 167, 136, 168],\n",
       "        [151, 124, 191, ...,  63, 133, 103],\n",
       "        ...,\n",
       "        [ 18,  16,  35, ..., 235, 238, 253],\n",
       "        [236, 239, 254, ...,  95,  49, 121],\n",
       "        [ 98,  49, 123, ...,  77,  53,  51]],\n",
       "\n",
       "       ...,\n",
       "\n",
       "       [[172, 218, 235, ..., 231, 159, 216],\n",
       "        [231, 157, 216, ..., 203, 205, 199],\n",
       "        [198, 200, 201, ..., 213, 112,   4],\n",
       "        ...,\n",
       "        [232, 236, 229, ..., 252, 205, 183],\n",
       "        [252, 205, 178, ..., 203,  18, 118],\n",
       "        [182,  30, 123, ...,  55,  79, 106]],\n",
       "\n",
       "       [[172, 218, 235, ..., 231, 159, 216],\n",
       "        [231, 157, 216, ..., 203, 205, 199],\n",
       "        [198, 200, 201, ..., 213, 112,   4],\n",
       "        ...,\n",
       "        [232, 236, 229, ..., 252, 205, 183],\n",
       "        [252, 205, 178, ..., 203,  18, 118],\n",
       "        [182,  30, 123, ...,  55,  79, 106]],\n",
       "\n",
       "       [[ 56,  63,  88, ...,  63,  49,  53],\n",
       "        [ 64,  49,  53, ..., 146, 127, 158],\n",
       "        [150, 127, 154, ...,  66,  65, 115],\n",
       "        ...,\n",
       "        [ 53,  70,  49, ...,  53,  53,  59],\n",
       "        [ 42,  45,  50, ...,  33,  38,  40],\n",
       "        [ 40,  35,  37, ..., 121, 150,  69]]], dtype=uint8)"
      ]
     },
     "execution_count": 9,
     "metadata": {},
     "output_type": "execute_result"
    }
   ],
   "source": [
    "x=np.array(x)\n",
    "x"
   ]
  },
  {
   "cell_type": "code",
   "execution_count": 10,
   "id": "1b3ec184",
   "metadata": {},
   "outputs": [
    {
     "data": {
      "text/plain": [
       "(25, 200, 200)"
      ]
     },
     "execution_count": 10,
     "metadata": {},
     "output_type": "execute_result"
    }
   ],
   "source": [
    "x.shape"
   ]
  },
  {
   "cell_type": "code",
   "execution_count": 11,
   "id": "dbf58969",
   "metadata": {},
   "outputs": [
    {
     "data": {
      "text/plain": [
       "array([[ 57,  57,  57, ...,  71,  77,  73],\n",
       "       [  0,   2,  29, ..., 178, 231, 133],\n",
       "       [ 12,  45,  30, ...,  77,  53,  51],\n",
       "       ...,\n",
       "       [172, 218, 235, ...,  55,  79, 106],\n",
       "       [172, 218, 235, ...,  55,  79, 106],\n",
       "       [ 56,  63,  88, ..., 121, 150,  69]], dtype=uint8)"
      ]
     },
     "execution_count": 11,
     "metadata": {},
     "output_type": "execute_result"
    }
   ],
   "source": [
    "x=x.reshape(25, 200* 200)\n",
    "x"
   ]
  },
  {
   "cell_type": "code",
   "execution_count": 12,
   "id": "55a85665",
   "metadata": {},
   "outputs": [
    {
     "data": {
      "text/plain": [
       "(25, 40000)"
      ]
     },
     "execution_count": 12,
     "metadata": {},
     "output_type": "execute_result"
    }
   ],
   "source": [
    "x.shape"
   ]
  },
  {
   "cell_type": "code",
   "execution_count": 13,
   "id": "3a796dd2",
   "metadata": {},
   "outputs": [
    {
     "data": {
      "text/plain": [
       "array([1., 1., 1., 1., 1., 1., 1., 1., 1., 1., 1., 1., 1., 1., 1., 1., 1.,\n",
       "       1., 1., 1.])"
      ]
     },
     "execution_count": 13,
     "metadata": {},
     "output_type": "execute_result"
    }
   ],
   "source": [
    "o=np.ones([20])\n",
    "o"
   ]
  },
  {
   "cell_type": "code",
   "execution_count": 14,
   "id": "104ffdf3",
   "metadata": {},
   "outputs": [
    {
     "data": {
      "text/plain": [
       "array([0., 0., 0., 0., 0.])"
      ]
     },
     "execution_count": 14,
     "metadata": {},
     "output_type": "execute_result"
    }
   ],
   "source": [
    "z=np.zeros([5])\n",
    "z"
   ]
  },
  {
   "cell_type": "code",
   "execution_count": 15,
   "id": "796b6f3f",
   "metadata": {},
   "outputs": [
    {
     "data": {
      "text/plain": [
       "array([1., 1., 1., 1., 1., 1., 1., 1., 1., 1., 1., 1., 1., 1., 1., 1., 1.,\n",
       "       1., 1., 1., 0., 0., 0., 0., 0.])"
      ]
     },
     "execution_count": 15,
     "metadata": {},
     "output_type": "execute_result"
    }
   ],
   "source": [
    "y=np.append(o,z)\n",
    "y"
   ]
  },
  {
   "cell_type": "code",
   "execution_count": 16,
   "id": "0efe4422",
   "metadata": {},
   "outputs": [
    {
     "data": {
      "text/plain": [
       "(25,)"
      ]
     },
     "execution_count": 16,
     "metadata": {},
     "output_type": "execute_result"
    }
   ],
   "source": [
    "y.shape"
   ]
  },
  {
   "cell_type": "code",
   "execution_count": 17,
   "id": "d73a7797",
   "metadata": {},
   "outputs": [],
   "source": [
    "from sklearn.model_selection import train_test_split"
   ]
  },
  {
   "cell_type": "code",
   "execution_count": 18,
   "id": "e9f36e10",
   "metadata": {},
   "outputs": [],
   "source": [
    "xtrain,xtest,ytrain,ytest=train_test_split(x,y,test_size=0.2,shuffle=True,random_state=150)"
   ]
  },
  {
   "cell_type": "code",
   "execution_count": 19,
   "id": "c0935937",
   "metadata": {},
   "outputs": [],
   "source": [
    "from sklearn.linear_model import LogisticRegression"
   ]
  },
  {
   "cell_type": "code",
   "execution_count": 20,
   "id": "d7d9556b",
   "metadata": {},
   "outputs": [],
   "source": [
    "linear=LogisticRegression()"
   ]
  },
  {
   "cell_type": "code",
   "execution_count": 21,
   "id": "74849e31",
   "metadata": {},
   "outputs": [
    {
     "data": {
      "text/plain": [
       "LogisticRegression()"
      ]
     },
     "execution_count": 21,
     "metadata": {},
     "output_type": "execute_result"
    }
   ],
   "source": [
    "linear.fit(xtrain,ytrain)"
   ]
  },
  {
   "cell_type": "code",
   "execution_count": 22,
   "id": "82a222f0",
   "metadata": {},
   "outputs": [
    {
     "data": {
      "text/plain": [
       "array([0., 1., 1., 1., 0.])"
      ]
     },
     "execution_count": 22,
     "metadata": {},
     "output_type": "execute_result"
    }
   ],
   "source": [
    "linear.predict(xtest)"
   ]
  },
  {
   "cell_type": "code",
   "execution_count": 23,
   "id": "4a4b1f02",
   "metadata": {},
   "outputs": [
    {
     "data": {
      "text/plain": [
       "0.8"
      ]
     },
     "execution_count": 23,
     "metadata": {},
     "output_type": "execute_result"
    }
   ],
   "source": [
    "linear.score(xtest,ytest)"
   ]
  },
  {
   "cell_type": "code",
   "execution_count": 24,
   "id": "fa2c1d37",
   "metadata": {},
   "outputs": [],
   "source": [
    "from sklearn.tree import DecisionTreeClassifier"
   ]
  },
  {
   "cell_type": "code",
   "execution_count": 25,
   "id": "eed93909",
   "metadata": {},
   "outputs": [],
   "source": [
    "DTC= DecisionTreeClassifier()"
   ]
  },
  {
   "cell_type": "code",
   "execution_count": 26,
   "id": "e13ef78e",
   "metadata": {},
   "outputs": [
    {
     "data": {
      "text/plain": [
       "DecisionTreeClassifier()"
      ]
     },
     "execution_count": 26,
     "metadata": {},
     "output_type": "execute_result"
    }
   ],
   "source": [
    "DTC.fit(xtrain,ytrain)"
   ]
  },
  {
   "cell_type": "code",
   "execution_count": 27,
   "id": "e362402d",
   "metadata": {},
   "outputs": [
    {
     "data": {
      "text/plain": [
       "array([0., 1., 1., 1., 1.])"
      ]
     },
     "execution_count": 27,
     "metadata": {},
     "output_type": "execute_result"
    }
   ],
   "source": [
    "DTC.predict(xtest)"
   ]
  },
  {
   "cell_type": "code",
   "execution_count": 28,
   "id": "8847def1",
   "metadata": {},
   "outputs": [
    {
     "data": {
      "text/plain": [
       "1.0"
      ]
     },
     "execution_count": 28,
     "metadata": {},
     "output_type": "execute_result"
    }
   ],
   "source": [
    "DTC.score(xtest,ytest)"
   ]
  },
  {
   "cell_type": "code",
   "execution_count": 29,
   "id": "70aa2996",
   "metadata": {},
   "outputs": [],
   "source": [
    "from sklearn.svm import SVC"
   ]
  },
  {
   "cell_type": "code",
   "execution_count": 30,
   "id": "66bd387b",
   "metadata": {},
   "outputs": [],
   "source": [
    "support=SVC(kernel=\"linear\")"
   ]
  },
  {
   "cell_type": "code",
   "execution_count": 31,
   "id": "57863a97",
   "metadata": {},
   "outputs": [
    {
     "data": {
      "text/plain": [
       "SVC(kernel='linear')"
      ]
     },
     "execution_count": 31,
     "metadata": {},
     "output_type": "execute_result"
    }
   ],
   "source": [
    "support.fit(xtrain,ytrain)"
   ]
  },
  {
   "cell_type": "code",
   "execution_count": 32,
   "id": "c43bf42a",
   "metadata": {},
   "outputs": [
    {
     "data": {
      "text/plain": [
       "array([0., 1., 1., 1., 0.])"
      ]
     },
     "execution_count": 32,
     "metadata": {},
     "output_type": "execute_result"
    }
   ],
   "source": [
    "support.predict(xtest)"
   ]
  },
  {
   "cell_type": "code",
   "execution_count": 33,
   "id": "01806ffa",
   "metadata": {},
   "outputs": [
    {
     "data": {
      "text/plain": [
       "0.8"
      ]
     },
     "execution_count": 33,
     "metadata": {},
     "output_type": "execute_result"
    }
   ],
   "source": [
    "support.score(xtest,ytest)"
   ]
  },
  {
   "cell_type": "code",
   "execution_count": 34,
   "id": "c40e676d",
   "metadata": {},
   "outputs": [],
   "source": [
    "from sklearn.ensemble import RandomForestClassifier"
   ]
  },
  {
   "cell_type": "code",
   "execution_count": 35,
   "id": "78dccd5b",
   "metadata": {},
   "outputs": [],
   "source": [
    "random=RandomForestClassifier()"
   ]
  },
  {
   "cell_type": "code",
   "execution_count": 36,
   "id": "9c37d25d",
   "metadata": {},
   "outputs": [
    {
     "data": {
      "text/plain": [
       "RandomForestClassifier()"
      ]
     },
     "execution_count": 36,
     "metadata": {},
     "output_type": "execute_result"
    }
   ],
   "source": [
    "random.fit(xtrain,ytrain)"
   ]
  },
  {
   "cell_type": "code",
   "execution_count": 37,
   "id": "2c17a96d",
   "metadata": {},
   "outputs": [
    {
     "data": {
      "text/plain": [
       "array([0., 1., 1., 1., 1.])"
      ]
     },
     "execution_count": 37,
     "metadata": {},
     "output_type": "execute_result"
    }
   ],
   "source": [
    "random.predict(xtest)"
   ]
  },
  {
   "cell_type": "code",
   "execution_count": 38,
   "id": "141a88ed",
   "metadata": {},
   "outputs": [
    {
     "data": {
      "text/plain": [
       "1.0"
      ]
     },
     "execution_count": 38,
     "metadata": {},
     "output_type": "execute_result"
    }
   ],
   "source": [
    "random.score(xtest,ytest)"
   ]
  },
  {
   "cell_type": "code",
   "execution_count": 39,
   "id": "679fe53e",
   "metadata": {},
   "outputs": [],
   "source": [
    "from sklearn.neighbors import KNeighborsClassifier"
   ]
  },
  {
   "cell_type": "code",
   "execution_count": 40,
   "id": "8240f43b",
   "metadata": {},
   "outputs": [],
   "source": [
    "KNN=KNeighborsClassifier()"
   ]
  },
  {
   "cell_type": "code",
   "execution_count": 41,
   "id": "e4c9a122",
   "metadata": {},
   "outputs": [
    {
     "data": {
      "text/plain": [
       "KNeighborsClassifier()"
      ]
     },
     "execution_count": 41,
     "metadata": {},
     "output_type": "execute_result"
    }
   ],
   "source": [
    "KNN.fit(xtrain,ytrain)"
   ]
  },
  {
   "cell_type": "code",
   "execution_count": 42,
   "id": "17781010",
   "metadata": {
    "scrolled": true
   },
   "outputs": [
    {
     "data": {
      "text/plain": [
       "array([1., 1., 1., 1., 1.])"
      ]
     },
     "execution_count": 42,
     "metadata": {},
     "output_type": "execute_result"
    }
   ],
   "source": [
    "KNN.predict(xtest)"
   ]
  },
  {
   "cell_type": "code",
   "execution_count": 43,
   "id": "2905de71",
   "metadata": {},
   "outputs": [
    {
     "data": {
      "text/plain": [
       "0.8"
      ]
     },
     "execution_count": 43,
     "metadata": {},
     "output_type": "execute_result"
    }
   ],
   "source": [
    "KNN.score(xtest,ytest)"
   ]
  },
  {
   "cell_type": "code",
   "execution_count": 44,
   "id": "ef63c4d0",
   "metadata": {},
   "outputs": [],
   "source": [
    "from sklearn.metrics import accuracy_score\n",
    "from sklearn.metrics import recall_score\n",
    "from sklearn.metrics import f1_score\n",
    "from sklearn.metrics import classification_report"
   ]
  },
  {
   "cell_type": "code",
   "execution_count": 45,
   "id": "70ef98d1",
   "metadata": {
    "scrolled": true
   },
   "outputs": [
    {
     "data": {
      "text/plain": [
       "0.8"
      ]
     },
     "execution_count": 45,
     "metadata": {},
     "output_type": "execute_result"
    }
   ],
   "source": [
    "\n",
    "\n",
    "accuracy_score(ytest,linear.predict(xtest))\n"
   ]
  },
  {
   "cell_type": "code",
   "execution_count": 46,
   "id": "0b817d3e",
   "metadata": {},
   "outputs": [
    {
     "data": {
      "text/plain": [
       "0.75"
      ]
     },
     "execution_count": 46,
     "metadata": {},
     "output_type": "execute_result"
    }
   ],
   "source": [
    "recall_score(ytest,linear.predict(xtest))"
   ]
  },
  {
   "cell_type": "code",
   "execution_count": 47,
   "id": "7b66f969",
   "metadata": {
    "scrolled": true
   },
   "outputs": [
    {
     "data": {
      "text/plain": [
       "0.8571428571428571"
      ]
     },
     "execution_count": 47,
     "metadata": {},
     "output_type": "execute_result"
    }
   ],
   "source": [
    "f1_score(ytest,linear.predict(xtest))"
   ]
  },
  {
   "cell_type": "code",
   "execution_count": 48,
   "id": "6dad5cb4",
   "metadata": {},
   "outputs": [
    {
     "data": {
      "text/plain": [
       "1.0"
      ]
     },
     "execution_count": 48,
     "metadata": {},
     "output_type": "execute_result"
    }
   ],
   "source": [
    "accuracy_score(ytest,DTC.predict(xtest))"
   ]
  },
  {
   "cell_type": "code",
   "execution_count": 49,
   "id": "c0d90dc0",
   "metadata": {},
   "outputs": [
    {
     "data": {
      "text/plain": [
       "1.0"
      ]
     },
     "execution_count": 49,
     "metadata": {},
     "output_type": "execute_result"
    }
   ],
   "source": [
    "recall_score(ytest,DTC.predict(xtest))"
   ]
  },
  {
   "cell_type": "code",
   "execution_count": 50,
   "id": "839d91dc",
   "metadata": {},
   "outputs": [
    {
     "data": {
      "text/plain": [
       "1.0"
      ]
     },
     "execution_count": 50,
     "metadata": {},
     "output_type": "execute_result"
    }
   ],
   "source": [
    "f1_score(ytest,DTC.predict(xtest))"
   ]
  },
  {
   "cell_type": "code",
   "execution_count": 51,
   "id": "a3b9ea81",
   "metadata": {},
   "outputs": [
    {
     "data": {
      "text/plain": [
       "1.0"
      ]
     },
     "execution_count": 51,
     "metadata": {},
     "output_type": "execute_result"
    }
   ],
   "source": [
    "accuracy_score(ytest,random.predict(xtest))"
   ]
  },
  {
   "cell_type": "code",
   "execution_count": 52,
   "id": "d46e7241",
   "metadata": {},
   "outputs": [
    {
     "data": {
      "text/plain": [
       "1.0"
      ]
     },
     "execution_count": 52,
     "metadata": {},
     "output_type": "execute_result"
    }
   ],
   "source": [
    "recall_score(ytest,random.predict(xtest))"
   ]
  },
  {
   "cell_type": "code",
   "execution_count": 53,
   "id": "7b396918",
   "metadata": {},
   "outputs": [
    {
     "data": {
      "text/plain": [
       "1.0"
      ]
     },
     "execution_count": 53,
     "metadata": {},
     "output_type": "execute_result"
    }
   ],
   "source": [
    "f1_score(ytest,random.predict(xtest))"
   ]
  },
  {
   "cell_type": "code",
   "execution_count": 54,
   "id": "e7483d75",
   "metadata": {},
   "outputs": [
    {
     "data": {
      "text/plain": [
       "0.8"
      ]
     },
     "execution_count": 54,
     "metadata": {},
     "output_type": "execute_result"
    }
   ],
   "source": [
    "accuracy_score(ytest,support.predict(xtest))"
   ]
  },
  {
   "cell_type": "code",
   "execution_count": 55,
   "id": "bd1edb97",
   "metadata": {},
   "outputs": [
    {
     "data": {
      "text/plain": [
       "0.75"
      ]
     },
     "execution_count": 55,
     "metadata": {},
     "output_type": "execute_result"
    }
   ],
   "source": [
    "recall_score(ytest,support.predict(xtest))"
   ]
  },
  {
   "cell_type": "code",
   "execution_count": 56,
   "id": "e1580cba",
   "metadata": {},
   "outputs": [
    {
     "data": {
      "text/plain": [
       "0.8571428571428571"
      ]
     },
     "execution_count": 56,
     "metadata": {},
     "output_type": "execute_result"
    }
   ],
   "source": [
    "f1_score(ytest,support.predict(xtest))"
   ]
  },
  {
   "cell_type": "code",
   "execution_count": 57,
   "id": "5d701684",
   "metadata": {},
   "outputs": [
    {
     "data": {
      "text/plain": [
       "0.8"
      ]
     },
     "execution_count": 57,
     "metadata": {},
     "output_type": "execute_result"
    }
   ],
   "source": [
    "accuracy_score(ytest,KNN.predict(xtest))"
   ]
  },
  {
   "cell_type": "code",
   "execution_count": 58,
   "id": "21a8f272",
   "metadata": {},
   "outputs": [
    {
     "data": {
      "text/plain": [
       "1.0"
      ]
     },
     "execution_count": 58,
     "metadata": {},
     "output_type": "execute_result"
    }
   ],
   "source": [
    "recall_score(ytest,KNN.predict(xtest))"
   ]
  },
  {
   "cell_type": "code",
   "execution_count": 59,
   "id": "0fa4bc39",
   "metadata": {},
   "outputs": [
    {
     "data": {
      "text/plain": [
       "0.888888888888889"
      ]
     },
     "execution_count": 59,
     "metadata": {},
     "output_type": "execute_result"
    }
   ],
   "source": [
    "f1_score(ytest,KNN.predict(xtest))"
   ]
  },
  {
   "cell_type": "code",
   "execution_count": null,
   "id": "8d34ac5c",
   "metadata": {},
   "outputs": [],
   "source": []
  },
  {
   "cell_type": "code",
   "execution_count": 60,
   "id": "ca397ec2",
   "metadata": {},
   "outputs": [],
   "source": [
    "R={\n",
    "    \n",
    "    \n",
    "    \"Logistic_Regression\":[linear.score(xtest,ytest)],\n",
    "    \"Decision_Tree_classifier\":[DTC.score(xtest,ytest)],\n",
    "    \"Support_vector_Mechine\":[support.score(xtest,ytest)],\n",
    "    \"Random_Forest_Classifier\":[random.score(xtest,ytest)],\n",
    "    \"KNeighbors_Classifier\":[KNN.score(xtest,ytest)]\n",
    "}"
   ]
  },
  {
   "cell_type": "code",
   "execution_count": 61,
   "id": "fa0e68b2",
   "metadata": {},
   "outputs": [
    {
     "data": {
      "text/html": [
       "<div>\n",
       "<style scoped>\n",
       "    .dataframe tbody tr th:only-of-type {\n",
       "        vertical-align: middle;\n",
       "    }\n",
       "\n",
       "    .dataframe tbody tr th {\n",
       "        vertical-align: top;\n",
       "    }\n",
       "\n",
       "    .dataframe thead th {\n",
       "        text-align: right;\n",
       "    }\n",
       "</style>\n",
       "<table border=\"1\" class=\"dataframe\">\n",
       "  <thead>\n",
       "    <tr style=\"text-align: right;\">\n",
       "      <th></th>\n",
       "      <th>0</th>\n",
       "    </tr>\n",
       "  </thead>\n",
       "  <tbody>\n",
       "    <tr>\n",
       "      <th>Logistic_Regression</th>\n",
       "      <td>0.8</td>\n",
       "    </tr>\n",
       "    <tr>\n",
       "      <th>Decision_Tree_classifier</th>\n",
       "      <td>1.0</td>\n",
       "    </tr>\n",
       "    <tr>\n",
       "      <th>Support_vector_Mechine</th>\n",
       "      <td>0.8</td>\n",
       "    </tr>\n",
       "    <tr>\n",
       "      <th>Random_Forest_Classifier</th>\n",
       "      <td>1.0</td>\n",
       "    </tr>\n",
       "    <tr>\n",
       "      <th>KNeighbors_Classifier</th>\n",
       "      <td>0.8</td>\n",
       "    </tr>\n",
       "  </tbody>\n",
       "</table>\n",
       "</div>"
      ],
      "text/plain": [
       "                            0\n",
       "Logistic_Regression       0.8\n",
       "Decision_Tree_classifier  1.0\n",
       "Support_vector_Mechine    0.8\n",
       "Random_Forest_Classifier  1.0\n",
       "KNeighbors_Classifier     0.8"
      ]
     },
     "execution_count": 61,
     "metadata": {},
     "output_type": "execute_result"
    }
   ],
   "source": [
    "d=pd.DataFrame(R).T\n",
    "d\n"
   ]
  },
  {
   "cell_type": "code",
   "execution_count": 62,
   "id": "a48f8042",
   "metadata": {},
   "outputs": [],
   "source": [
    "d[\"Accuracy_score\"]=[accuracy_score(ytest,linear.predict(xtest)),accuracy_score(ytest,DTC.predict(xtest)),accuracy_score(ytest,support.predict(xtest)),accuracy_score(ytest,random.predict(xtest)),accuracy_score(ytest,KNN.predict(xtest))]"
   ]
  },
  {
   "cell_type": "code",
   "execution_count": 63,
   "id": "308dbc6f",
   "metadata": {},
   "outputs": [],
   "source": [
    "d[\"F1_score\"]=[f1_score(ytest,linear.predict(xtest)),f1_score(ytest,DTC.predict(xtest)),f1_score(ytest,support.predict(xtest)),f1_score(ytest,random.predict(xtest)),f1_score(ytest,KNN.predict(xtest))]"
   ]
  },
  {
   "cell_type": "code",
   "execution_count": 64,
   "id": "787ca217",
   "metadata": {},
   "outputs": [],
   "source": [
    "d[\"Recall_score\"]=[recall_score(ytest,linear.predict(xtest)),recall_score(ytest,DTC.predict(xtest)),recall_score(ytest,support.predict(xtest)),recall_score(ytest,random.predict(xtest)),recall_score(ytest,KNN.predict(xtest))]"
   ]
  },
  {
   "cell_type": "code",
   "execution_count": 65,
   "id": "6d47f704",
   "metadata": {},
   "outputs": [
    {
     "data": {
      "text/html": [
       "<div>\n",
       "<style scoped>\n",
       "    .dataframe tbody tr th:only-of-type {\n",
       "        vertical-align: middle;\n",
       "    }\n",
       "\n",
       "    .dataframe tbody tr th {\n",
       "        vertical-align: top;\n",
       "    }\n",
       "\n",
       "    .dataframe thead th {\n",
       "        text-align: right;\n",
       "    }\n",
       "</style>\n",
       "<table border=\"1\" class=\"dataframe\">\n",
       "  <thead>\n",
       "    <tr style=\"text-align: right;\">\n",
       "      <th></th>\n",
       "      <th>0</th>\n",
       "      <th>Accuracy_score</th>\n",
       "      <th>F1_score</th>\n",
       "      <th>Recall_score</th>\n",
       "    </tr>\n",
       "  </thead>\n",
       "  <tbody>\n",
       "    <tr>\n",
       "      <th>Logistic_Regression</th>\n",
       "      <td>0.8</td>\n",
       "      <td>0.8</td>\n",
       "      <td>0.857143</td>\n",
       "      <td>0.75</td>\n",
       "    </tr>\n",
       "    <tr>\n",
       "      <th>Decision_Tree_classifier</th>\n",
       "      <td>1.0</td>\n",
       "      <td>1.0</td>\n",
       "      <td>1.000000</td>\n",
       "      <td>1.00</td>\n",
       "    </tr>\n",
       "    <tr>\n",
       "      <th>Support_vector_Mechine</th>\n",
       "      <td>0.8</td>\n",
       "      <td>0.8</td>\n",
       "      <td>0.857143</td>\n",
       "      <td>0.75</td>\n",
       "    </tr>\n",
       "    <tr>\n",
       "      <th>Random_Forest_Classifier</th>\n",
       "      <td>1.0</td>\n",
       "      <td>1.0</td>\n",
       "      <td>1.000000</td>\n",
       "      <td>1.00</td>\n",
       "    </tr>\n",
       "    <tr>\n",
       "      <th>KNeighbors_Classifier</th>\n",
       "      <td>0.8</td>\n",
       "      <td>0.8</td>\n",
       "      <td>0.888889</td>\n",
       "      <td>1.00</td>\n",
       "    </tr>\n",
       "  </tbody>\n",
       "</table>\n",
       "</div>"
      ],
      "text/plain": [
       "                            0  Accuracy_score  F1_score  Recall_score\n",
       "Logistic_Regression       0.8             0.8  0.857143          0.75\n",
       "Decision_Tree_classifier  1.0             1.0  1.000000          1.00\n",
       "Support_vector_Mechine    0.8             0.8  0.857143          0.75\n",
       "Random_Forest_Classifier  1.0             1.0  1.000000          1.00\n",
       "KNeighbors_Classifier     0.8             0.8  0.888889          1.00"
      ]
     },
     "execution_count": 65,
     "metadata": {},
     "output_type": "execute_result"
    }
   ],
   "source": [
    "d"
   ]
  },
  {
   "cell_type": "code",
   "execution_count": 66,
   "id": "cd2f4c86",
   "metadata": {},
   "outputs": [],
   "source": [
    "from sklearn.metrics import confusion_matrix"
   ]
  },
  {
   "cell_type": "code",
   "execution_count": 67,
   "id": "b0c1ef99",
   "metadata": {},
   "outputs": [
    {
     "name": "stdout",
     "output_type": "stream",
     "text": [
      "Sensitivity :  1.0\n"
     ]
    }
   ],
   "source": [
    "cm1 = confusion_matrix(ytest,linear.predict(xtest))\n",
    "sensitivity1 = cm1[0,0]/(cm1[0,0]+cm1[0,1])\n",
    "print('Sensitivity : ', sensitivity1 )"
   ]
  },
  {
   "cell_type": "code",
   "execution_count": 68,
   "id": "b895b5fc",
   "metadata": {},
   "outputs": [
    {
     "name": "stdout",
     "output_type": "stream",
     "text": [
      "Sensitivity :  1.0\n"
     ]
    }
   ],
   "source": [
    "cm1 = confusion_matrix(ytest,DTC.predict(xtest))\n",
    "sensitivity2 = cm1[0,0]/(cm1[0,0]+cm1[0,1])\n",
    "print('Sensitivity : ', sensitivity2 )"
   ]
  },
  {
   "cell_type": "code",
   "execution_count": 69,
   "id": "c40bd6b5",
   "metadata": {},
   "outputs": [
    {
     "name": "stdout",
     "output_type": "stream",
     "text": [
      "Sensitivity :  1.0\n"
     ]
    }
   ],
   "source": [
    "cm1 = confusion_matrix(ytest,support.predict(xtest))\n",
    "sensitivity3 = cm1[0,0]/(cm1[0,0]+cm1[0,1])\n",
    "print('Sensitivity : ', sensitivity3 )"
   ]
  },
  {
   "cell_type": "code",
   "execution_count": 70,
   "id": "b50e010a",
   "metadata": {},
   "outputs": [
    {
     "name": "stdout",
     "output_type": "stream",
     "text": [
      "Sensitivity :  1.0\n"
     ]
    }
   ],
   "source": [
    "cm1 = confusion_matrix(ytest,random.predict(xtest))\n",
    "sensitivity4 = cm1[0,0]/(cm1[0,0]+cm1[0,1])\n",
    "print('Sensitivity : ', sensitivity4 )"
   ]
  },
  {
   "cell_type": "code",
   "execution_count": 71,
   "id": "9005b21c",
   "metadata": {},
   "outputs": [
    {
     "name": "stdout",
     "output_type": "stream",
     "text": [
      "Sensitivity :  0.0\n"
     ]
    }
   ],
   "source": [
    "cm1 = confusion_matrix(ytest,KNN.predict(xtest))\n",
    "sensitivity5 = cm1[0,0]/(cm1[0,0]+cm1[0,1])\n",
    "print('Sensitivity : ', sensitivity5 )"
   ]
  },
  {
   "cell_type": "code",
   "execution_count": 72,
   "id": "4d1a88f1",
   "metadata": {},
   "outputs": [],
   "source": [
    "d[\"Sensitivity_score\"]=[sensitivity1,sensitivity2,sensitivity3,sensitivity4,sensitivity5]"
   ]
  },
  {
   "cell_type": "code",
   "execution_count": 73,
   "id": "26d3182d",
   "metadata": {},
   "outputs": [
    {
     "data": {
      "text/html": [
       "<div>\n",
       "<style scoped>\n",
       "    .dataframe tbody tr th:only-of-type {\n",
       "        vertical-align: middle;\n",
       "    }\n",
       "\n",
       "    .dataframe tbody tr th {\n",
       "        vertical-align: top;\n",
       "    }\n",
       "\n",
       "    .dataframe thead th {\n",
       "        text-align: right;\n",
       "    }\n",
       "</style>\n",
       "<table border=\"1\" class=\"dataframe\">\n",
       "  <thead>\n",
       "    <tr style=\"text-align: right;\">\n",
       "      <th></th>\n",
       "      <th>0</th>\n",
       "      <th>Accuracy_score</th>\n",
       "      <th>F1_score</th>\n",
       "      <th>Recall_score</th>\n",
       "      <th>Sensitivity_score</th>\n",
       "    </tr>\n",
       "  </thead>\n",
       "  <tbody>\n",
       "    <tr>\n",
       "      <th>Logistic_Regression</th>\n",
       "      <td>0.8</td>\n",
       "      <td>0.8</td>\n",
       "      <td>0.857143</td>\n",
       "      <td>0.75</td>\n",
       "      <td>1.0</td>\n",
       "    </tr>\n",
       "    <tr>\n",
       "      <th>Decision_Tree_classifier</th>\n",
       "      <td>1.0</td>\n",
       "      <td>1.0</td>\n",
       "      <td>1.000000</td>\n",
       "      <td>1.00</td>\n",
       "      <td>1.0</td>\n",
       "    </tr>\n",
       "    <tr>\n",
       "      <th>Support_vector_Mechine</th>\n",
       "      <td>0.8</td>\n",
       "      <td>0.8</td>\n",
       "      <td>0.857143</td>\n",
       "      <td>0.75</td>\n",
       "      <td>1.0</td>\n",
       "    </tr>\n",
       "    <tr>\n",
       "      <th>Random_Forest_Classifier</th>\n",
       "      <td>1.0</td>\n",
       "      <td>1.0</td>\n",
       "      <td>1.000000</td>\n",
       "      <td>1.00</td>\n",
       "      <td>1.0</td>\n",
       "    </tr>\n",
       "    <tr>\n",
       "      <th>KNeighbors_Classifier</th>\n",
       "      <td>0.8</td>\n",
       "      <td>0.8</td>\n",
       "      <td>0.888889</td>\n",
       "      <td>1.00</td>\n",
       "      <td>0.0</td>\n",
       "    </tr>\n",
       "  </tbody>\n",
       "</table>\n",
       "</div>"
      ],
      "text/plain": [
       "                            0  Accuracy_score  F1_score  Recall_score  \\\n",
       "Logistic_Regression       0.8             0.8  0.857143          0.75   \n",
       "Decision_Tree_classifier  1.0             1.0  1.000000          1.00   \n",
       "Support_vector_Mechine    0.8             0.8  0.857143          0.75   \n",
       "Random_Forest_Classifier  1.0             1.0  1.000000          1.00   \n",
       "KNeighbors_Classifier     0.8             0.8  0.888889          1.00   \n",
       "\n",
       "                          Sensitivity_score  \n",
       "Logistic_Regression                     1.0  \n",
       "Decision_Tree_classifier                1.0  \n",
       "Support_vector_Mechine                  1.0  \n",
       "Random_Forest_Classifier                1.0  \n",
       "KNeighbors_Classifier                   0.0  "
      ]
     },
     "execution_count": 73,
     "metadata": {},
     "output_type": "execute_result"
    }
   ],
   "source": [
    "d"
   ]
  },
  {
   "cell_type": "code",
   "execution_count": 74,
   "id": "e1317c4f",
   "metadata": {},
   "outputs": [
    {
     "name": "stdout",
     "output_type": "stream",
     "text": [
      "Specificity :  0.75\n"
     ]
    }
   ],
   "source": [
    "cm1 = confusion_matrix(ytest,linear.predict(xtest))\n",
    "specificity6 = cm1[1,1]/(cm1[1,0]+cm1[1,1])\n",
    "print('Specificity : ', specificity6)\n"
   ]
  },
  {
   "cell_type": "code",
   "execution_count": 75,
   "id": "7dc9f679",
   "metadata": {},
   "outputs": [
    {
     "name": "stdout",
     "output_type": "stream",
     "text": [
      "Specificity :  1.0\n"
     ]
    }
   ],
   "source": [
    "cm1 = confusion_matrix(ytest,DTC.predict(xtest))\n",
    "specificity7 = cm1[1,1]/(cm1[1,0]+cm1[1,1])\n",
    "print('Specificity : ', specificity7)"
   ]
  },
  {
   "cell_type": "code",
   "execution_count": 76,
   "id": "faa857c4",
   "metadata": {},
   "outputs": [
    {
     "name": "stdout",
     "output_type": "stream",
     "text": [
      "Specificity :  0.75\n"
     ]
    }
   ],
   "source": [
    "cm1 = confusion_matrix(ytest,support.predict(xtest))\n",
    "specificity8 = cm1[1,1]/(cm1[1,0]+cm1[1,1])\n",
    "print('Specificity : ', specificity8)"
   ]
  },
  {
   "cell_type": "code",
   "execution_count": 77,
   "id": "290feb67",
   "metadata": {},
   "outputs": [
    {
     "name": "stdout",
     "output_type": "stream",
     "text": [
      "Specificity :  1.0\n"
     ]
    }
   ],
   "source": [
    "cm1 = confusion_matrix(ytest,random.predict(xtest))\n",
    "specificity9 = cm1[1,1]/(cm1[1,0]+cm1[1,1])\n",
    "print('Specificity : ', specificity9)"
   ]
  },
  {
   "cell_type": "code",
   "execution_count": 78,
   "id": "152f45ac",
   "metadata": {},
   "outputs": [
    {
     "name": "stdout",
     "output_type": "stream",
     "text": [
      "Specificity :  1.0\n"
     ]
    }
   ],
   "source": [
    "cm1 = confusion_matrix(ytest,KNN.predict(xtest))\n",
    "specificity10= cm1[1,1]/(cm1[1,0]+cm1[1,1])\n",
    "print('Specificity : ', specificity10)"
   ]
  },
  {
   "cell_type": "code",
   "execution_count": 79,
   "id": "e74df6a7",
   "metadata": {},
   "outputs": [],
   "source": [
    "d[\"Specificity\"]=[specificity6,specificity7,specificity8,specificity9,specificity10]"
   ]
  },
  {
   "cell_type": "code",
   "execution_count": 80,
   "id": "cd3e3d2e",
   "metadata": {},
   "outputs": [
    {
     "data": {
      "text/html": [
       "<div>\n",
       "<style scoped>\n",
       "    .dataframe tbody tr th:only-of-type {\n",
       "        vertical-align: middle;\n",
       "    }\n",
       "\n",
       "    .dataframe tbody tr th {\n",
       "        vertical-align: top;\n",
       "    }\n",
       "\n",
       "    .dataframe thead th {\n",
       "        text-align: right;\n",
       "    }\n",
       "</style>\n",
       "<table border=\"1\" class=\"dataframe\">\n",
       "  <thead>\n",
       "    <tr style=\"text-align: right;\">\n",
       "      <th></th>\n",
       "      <th>Score</th>\n",
       "      <th>Accuracy_score</th>\n",
       "      <th>F1_score</th>\n",
       "      <th>Recall_score</th>\n",
       "      <th>Sensitivity_score</th>\n",
       "      <th>Specificity</th>\n",
       "    </tr>\n",
       "  </thead>\n",
       "  <tbody>\n",
       "    <tr>\n",
       "      <th>Logistic_Regression</th>\n",
       "      <td>0.8</td>\n",
       "      <td>0.8</td>\n",
       "      <td>0.857143</td>\n",
       "      <td>0.75</td>\n",
       "      <td>1.0</td>\n",
       "      <td>0.75</td>\n",
       "    </tr>\n",
       "    <tr>\n",
       "      <th>Decision_Tree_classifier</th>\n",
       "      <td>1.0</td>\n",
       "      <td>1.0</td>\n",
       "      <td>1.000000</td>\n",
       "      <td>1.00</td>\n",
       "      <td>1.0</td>\n",
       "      <td>1.00</td>\n",
       "    </tr>\n",
       "    <tr>\n",
       "      <th>Support_vector_Mechine</th>\n",
       "      <td>0.8</td>\n",
       "      <td>0.8</td>\n",
       "      <td>0.857143</td>\n",
       "      <td>0.75</td>\n",
       "      <td>1.0</td>\n",
       "      <td>0.75</td>\n",
       "    </tr>\n",
       "    <tr>\n",
       "      <th>Random_Forest_Classifier</th>\n",
       "      <td>1.0</td>\n",
       "      <td>1.0</td>\n",
       "      <td>1.000000</td>\n",
       "      <td>1.00</td>\n",
       "      <td>1.0</td>\n",
       "      <td>1.00</td>\n",
       "    </tr>\n",
       "    <tr>\n",
       "      <th>KNeighbors_Classifier</th>\n",
       "      <td>0.8</td>\n",
       "      <td>0.8</td>\n",
       "      <td>0.888889</td>\n",
       "      <td>1.00</td>\n",
       "      <td>0.0</td>\n",
       "      <td>1.00</td>\n",
       "    </tr>\n",
       "  </tbody>\n",
       "</table>\n",
       "</div>"
      ],
      "text/plain": [
       "                          Score  Accuracy_score  F1_score  Recall_score  \\\n",
       "Logistic_Regression         0.8             0.8  0.857143          0.75   \n",
       "Decision_Tree_classifier    1.0             1.0  1.000000          1.00   \n",
       "Support_vector_Mechine      0.8             0.8  0.857143          0.75   \n",
       "Random_Forest_Classifier    1.0             1.0  1.000000          1.00   \n",
       "KNeighbors_Classifier       0.8             0.8  0.888889          1.00   \n",
       "\n",
       "                          Sensitivity_score  Specificity  \n",
       "Logistic_Regression                     1.0         0.75  \n",
       "Decision_Tree_classifier                1.0         1.00  \n",
       "Support_vector_Mechine                  1.0         0.75  \n",
       "Random_Forest_Classifier                1.0         1.00  \n",
       "KNeighbors_Classifier                   0.0         1.00  "
      ]
     },
     "execution_count": 80,
     "metadata": {},
     "output_type": "execute_result"
    }
   ],
   "source": [
    "d=d.rename(columns={0:\"Score\"})\n",
    "d"
   ]
  }
 ],
 "metadata": {
  "kernelspec": {
   "display_name": "Python 3",
   "language": "python",
   "name": "python3"
  },
  "language_info": {
   "codemirror_mode": {
    "name": "ipython",
    "version": 3
   },
   "file_extension": ".py",
   "mimetype": "text/x-python",
   "name": "python",
   "nbconvert_exporter": "python",
   "pygments_lexer": "ipython3",
   "version": "3.8.8"
  }
 },
 "nbformat": 4,
 "nbformat_minor": 5
}
